{
 "cells": [
  {
   "cell_type": "code",
   "execution_count": 105,
   "id": "54ac4cef-b479-44a6-bdd3-a8bd64b878be",
   "metadata": {},
   "outputs": [],
   "source": [
    "import pandas as pd\n",
    "import numpy as np"
   ]
  },
  {
   "cell_type": "code",
   "execution_count": 99,
   "id": "0518dd8a-bc6d-4fed-9a26-641f88d9c85e",
   "metadata": {},
   "outputs": [
    {
     "data": {
      "text/html": [
       "<div>\n",
       "<style scoped>\n",
       "    .dataframe tbody tr th:only-of-type {\n",
       "        vertical-align: middle;\n",
       "    }\n",
       "\n",
       "    .dataframe tbody tr th {\n",
       "        vertical-align: top;\n",
       "    }\n",
       "\n",
       "    .dataframe thead th {\n",
       "        text-align: right;\n",
       "    }\n",
       "</style>\n",
       "<table border=\"1\" class=\"dataframe\">\n",
       "  <thead>\n",
       "    <tr style=\"text-align: right;\">\n",
       "      <th></th>\n",
       "      <th>norms_id</th>\n",
       "      <th>scale</th>\n",
       "      <th>raw</th>\n",
       "      <th>std</th>\n",
       "    </tr>\n",
       "  </thead>\n",
       "  <tbody>\n",
       "    <tr>\n",
       "      <th>0</th>\n",
       "      <td>ita_all_norm</td>\n",
       "      <td>s1</td>\n",
       "      <td>0</td>\n",
       "      <td>10</td>\n",
       "    </tr>\n",
       "    <tr>\n",
       "      <th>1</th>\n",
       "      <td>ita_all_norm</td>\n",
       "      <td>s1</td>\n",
       "      <td>1</td>\n",
       "      <td>20</td>\n",
       "    </tr>\n",
       "    <tr>\n",
       "      <th>2</th>\n",
       "      <td>ita_all_norm</td>\n",
       "      <td>s1</td>\n",
       "      <td>2</td>\n",
       "      <td>30</td>\n",
       "    </tr>\n",
       "    <tr>\n",
       "      <th>3</th>\n",
       "      <td>ita_all_norm</td>\n",
       "      <td>s1</td>\n",
       "      <td>3</td>\n",
       "      <td>40</td>\n",
       "    </tr>\n",
       "    <tr>\n",
       "      <th>4</th>\n",
       "      <td>ita_all_norm</td>\n",
       "      <td>s1</td>\n",
       "      <td>4</td>\n",
       "      <td>50</td>\n",
       "    </tr>\n",
       "    <tr>\n",
       "      <th>...</th>\n",
       "      <td>...</td>\n",
       "      <td>...</td>\n",
       "      <td>...</td>\n",
       "      <td>...</td>\n",
       "    </tr>\n",
       "    <tr>\n",
       "      <th>61</th>\n",
       "      <td>ita_all_norm</td>\n",
       "      <td>s3</td>\n",
       "      <td>11</td>\n",
       "      <td>265</td>\n",
       "    </tr>\n",
       "    <tr>\n",
       "      <th>62</th>\n",
       "      <td>ita_all_clin</td>\n",
       "      <td>s3</td>\n",
       "      <td>12</td>\n",
       "      <td>270</td>\n",
       "    </tr>\n",
       "    <tr>\n",
       "      <th>63</th>\n",
       "      <td>ita_all_clin</td>\n",
       "      <td>s3</td>\n",
       "      <td>13</td>\n",
       "      <td>275</td>\n",
       "    </tr>\n",
       "    <tr>\n",
       "      <th>64</th>\n",
       "      <td>ita_all_clin</td>\n",
       "      <td>s3</td>\n",
       "      <td>14</td>\n",
       "      <td>280</td>\n",
       "    </tr>\n",
       "    <tr>\n",
       "      <th>65</th>\n",
       "      <td>ita_all_clin</td>\n",
       "      <td>s3</td>\n",
       "      <td>15</td>\n",
       "      <td>285</td>\n",
       "    </tr>\n",
       "  </tbody>\n",
       "</table>\n",
       "<p>66 rows × 4 columns</p>\n",
       "</div>"
      ],
      "text/plain": [
       "        norms_id scale  raw  std\n",
       "0   ita_all_norm    s1    0   10\n",
       "1   ita_all_norm    s1    1   20\n",
       "2   ita_all_norm    s1    2   30\n",
       "3   ita_all_norm    s1    3   40\n",
       "4   ita_all_norm    s1    4   50\n",
       "..           ...   ...  ...  ...\n",
       "61  ita_all_norm    s3   11  265\n",
       "62  ita_all_clin    s3   12  270\n",
       "63  ita_all_clin    s3   13  275\n",
       "64  ita_all_clin    s3   14  280\n",
       "65  ita_all_clin    s3   15  285\n",
       "\n",
       "[66 rows x 4 columns]"
      ]
     },
     "execution_count": 99,
     "metadata": {},
     "output_type": "execute_result"
    }
   ],
   "source": [
    "df = pd.read_csv(\"demo_norms.csv\")\n",
    "df"
   ]
  },
  {
   "cell_type": "code",
   "execution_count": 162,
   "id": "c4929277-1dcf-4dee-b4e6-cbbab60b3ddc",
   "metadata": {},
   "outputs": [
    {
     "data": {
      "text/html": [
       "<div>\n",
       "<style scoped>\n",
       "    .dataframe tbody tr th:only-of-type {\n",
       "        vertical-align: middle;\n",
       "    }\n",
       "\n",
       "    .dataframe tbody tr th {\n",
       "        vertical-align: top;\n",
       "    }\n",
       "\n",
       "    .dataframe thead tr th {\n",
       "        text-align: left;\n",
       "    }\n",
       "</style>\n",
       "<table border=\"1\" class=\"dataframe\">\n",
       "  <thead>\n",
       "    <tr>\n",
       "      <th>norms_id</th>\n",
       "      <th colspan=\"3\" halign=\"left\">ita_all_clin</th>\n",
       "      <th colspan=\"3\" halign=\"left\">ita_all_norm</th>\n",
       "    </tr>\n",
       "    <tr>\n",
       "      <th>scale</th>\n",
       "      <th>s1</th>\n",
       "      <th>s2</th>\n",
       "      <th>s3</th>\n",
       "      <th>s1</th>\n",
       "      <th>s2</th>\n",
       "      <th>s3</th>\n",
       "    </tr>\n",
       "  </thead>\n",
       "  <tbody>\n",
       "    <tr>\n",
       "      <th>raw</th>\n",
       "      <td>11</td>\n",
       "      <td>6</td>\n",
       "      <td>15</td>\n",
       "      <td>11</td>\n",
       "      <td>6</td>\n",
       "      <td>17</td>\n",
       "    </tr>\n",
       "    <tr>\n",
       "      <th>std</th>\n",
       "      <td>11</td>\n",
       "      <td>6</td>\n",
       "      <td>15</td>\n",
       "      <td>11</td>\n",
       "      <td>6</td>\n",
       "      <td>17</td>\n",
       "    </tr>\n",
       "  </tbody>\n",
       "</table>\n",
       "</div>"
      ],
      "text/plain": [
       "norms_id ita_all_clin        ita_all_norm       \n",
       "scale              s1 s2  s3           s1 s2  s3\n",
       "raw                11  6  15           11  6  17\n",
       "std                11  6  15           11  6  17"
      ]
     },
     "execution_count": 162,
     "metadata": {},
     "output_type": "execute_result"
    }
   ],
   "source": [
    "pd.pivot_table(df, columns=['norms_id', \"scale\"], values=[\"raw\",\"std\"], aggfunc=np.size)"
   ]
  },
  {
   "cell_type": "code",
   "execution_count": 163,
   "id": "a9428be6-72bb-483d-a95f-81a21251d1d8",
   "metadata": {},
   "outputs": [],
   "source": [
    "norms = df.pivot_table(values=['std'], index=['scale','raw'], columns=['norms_id']).reset_index()"
   ]
  },
  {
   "cell_type": "code",
   "execution_count": 164,
   "id": "7d5a0436-6781-41e3-94d2-fbb214098c1e",
   "metadata": {},
   "outputs": [
    {
     "data": {
      "text/plain": [
       "Index(['index', '('scale', '')', '('raw', '')', '('std', 'ita_all_clin')',\n",
       "       '('std', 'ita_all_norm')'],\n",
       "      dtype='object')"
      ]
     },
     "execution_count": 164,
     "metadata": {},
     "output_type": "execute_result"
    }
   ],
   "source": [
    "norms = pd.DataFrame(norms.to_records()) \n",
    "norms.columns"
   ]
  },
  {
   "cell_type": "code",
   "execution_count": 176,
   "id": "f7e7f4d3-39e3-4f0b-b41b-c16a15199716",
   "metadata": {},
   "outputs": [
    {
     "data": {
      "text/plain": [
       "['index', 'scale', 'raw', 'std_ita_all_clin', 'std_ita_all_norm']"
      ]
     },
     "execution_count": 176,
     "metadata": {},
     "output_type": "execute_result"
    }
   ],
   "source": [
    "import re\n",
    "[ \"_\".join(re.findall(r'\\b\\w+\\b', c))  for c in norms.columns.values  ]"
   ]
  },
  {
   "cell_type": "code",
   "execution_count": null,
   "id": "4639c90c-b63a-4019-88b7-fb4d89112833",
   "metadata": {},
   "outputs": [],
   "source": []
  }
 ],
 "metadata": {
  "kernelspec": {
   "display_name": "Python 3 (ipykernel)",
   "language": "python",
   "name": "python3"
  },
  "language_info": {
   "codemirror_mode": {
    "name": "ipython",
    "version": 3
   },
   "file_extension": ".py",
   "mimetype": "text/x-python",
   "name": "python",
   "nbconvert_exporter": "python",
   "pygments_lexer": "ipython3",
   "version": "3.12.0"
  }
 },
 "nbformat": 4,
 "nbformat_minor": 5
}
